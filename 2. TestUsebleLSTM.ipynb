{
 "cells": [
  {
   "cell_type": "code",
   "execution_count": null,
   "metadata": {},
   "outputs": [],
   "source": [
    "import os\n",
    "import numpy as np\n",
    "parent_folder_path = (r\"C:\\Users\\ilham\\Downloads\\Bahasa Isyarat\\LSTM-Dataset\\Hai\")\n",
    "\n",
    "for subdir in os.listdir(parent_folder_path):\n",
    "    subdir_path = os.path.join(parent_folder_path, subdir)\n",
    "\n",
    "    if os.path.isdir(subdir_path):\n",
    "        for i in range(30):\n",
    "            file_path = os.path.join(subdir_path, f\"mana_keypoints_{i}.npy\")\n",
    "            keypoints = np.load(file_path)\n",
    "\n",
    "            if np.all(keypoints == 0):\n",
    "                print(f\"File {file_path} contains only zero values.\")\n",
    "            else:\n",
    "                print(f\"No files with all zero values found in subdirectory {subdir}.\")"
   ]
  }
 ],
 "metadata": {
  "kernelspec": {
   "display_name": "Python 3",
   "language": "python",
   "name": "python3"
  },
  "language_info": {
   "codemirror_mode": {
    "name": "ipython",
    "version": 3
   },
   "file_extension": ".py",
   "mimetype": "text/x-python",
   "name": "python",
   "nbconvert_exporter": "python",
   "pygments_lexer": "ipython3",
   "version": "3.8.10"
  }
 },
 "nbformat": 4,
 "nbformat_minor": 2
}

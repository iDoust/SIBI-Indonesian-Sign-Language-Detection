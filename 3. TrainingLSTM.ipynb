{
 "cells": [
  {
   "cell_type": "code",
   "execution_count": 1,
   "metadata": {},
   "outputs": [],
   "source": [
    "import os\n",
    "import cv2\n",
    "import time\n",
    "import numpy as np\n",
    "import mediapipe as mp\n",
    "import tensorflow as tf\n",
    "from matplotlib import pyplot as plt\n",
    "from tensorflow.keras.models import load_model\n",
    "from tensorflow.keras.utils import to_categorical\n",
    "from sklearn.model_selection import train_test_split"
   ]
  },
  {
   "cell_type": "code",
   "execution_count": 2,
   "metadata": {},
   "outputs": [],
   "source": [
    "mp_holistic = mp.solutions.holistic\n",
    "mp_drawing = mp.solutions.drawing_utils\n",
    "\n",
    "def mediapipe_detection(image, model):\n",
    "    image = cv2.cvtColor(image, cv2.COLOR_BGR2RGB)\n",
    "    image.flags.writeable = False\n",
    "    results = model.process(image)\n",
    "    image.flags.writeable = True\n",
    "    image = cv2.cvtColor(image, cv2.COLOR_RGB2BGR)\n",
    "    return image, results\n",
    "\n",
    "def draw_landmarks(image, results):\n",
    "    mp_drawing.draw_landmarks(image, results.left_hand_landmarks, mp_holistic.HAND_CONNECTIONS)\n",
    "    mp_drawing.draw_landmarks(image, results.right_hand_landmarks, mp_holistic.HAND_CONNECTIONS)\n",
    "    \n",
    "def draw_styled_landmarks(image, results):\n",
    "    mp_drawing.draw_landmarks(image, results.left_hand_landmarks, mp_holistic.HAND_CONNECTIONS, \n",
    "                            mp_drawing.DrawingSpec(color=(121,22,76), thickness=2, circle_radius=4), \n",
    "                            mp_drawing.DrawingSpec(color=(121,44,250), thickness=2, circle_radius=2)) \n",
    "    mp_drawing.draw_landmarks(image, results.right_hand_landmarks, mp_holistic.HAND_CONNECTIONS, \n",
    "                            mp_drawing.DrawingSpec(color=(245,117,66), thickness=2, circle_radius=4), \n",
    "                            mp_drawing.DrawingSpec(color=(245,66,230), thickness=2, circle_radius=2)) \n",
    "\n",
    "def extract_keypoints(results):\n",
    "    lh = np.array([[res.x, res.y, res.z] for res in results.left_hand_landmarks.landmark]).flatten() if results.left_hand_landmarks else np.zeros(21*3)\n",
    "    rh = np.array([[res.x, res.y, res.z] for res in results.right_hand_landmarks.landmark]).flatten() if results.right_hand_landmarks else np.zeros(21*3)\n",
    "    return np.concatenate([lh, rh])"
   ]
  },
  {
   "cell_type": "markdown",
   "metadata": {},
   "source": [
    "DATASET"
   ]
  },
  {
   "cell_type": "code",
   "execution_count": 3,
   "metadata": {},
   "outputs": [],
   "source": [
    "actions = np.array(['apa', 'hai', 'nama', 'hobi', 'saya', 'kamu', 'sehat', 'maaf', 'tolong', 'no_action'])\n",
    "\n",
    "no_sequences = 60\n",
    "sequence_length = 30\n",
    "start_folder = 30\n",
    "\n",
    "DATA_PATH = (r\"C:\\Users\\ilham\\Documents\\SignLanguage\\LSTM-Dataset\")"
   ]
  },
  {
   "cell_type": "code",
   "execution_count": 4,
   "metadata": {},
   "outputs": [
    {
     "data": {
      "text/plain": [
       "{'apa': 0,\n",
       " 'hai': 1,\n",
       " 'nama': 2,\n",
       " 'hobi': 3,\n",
       " 'saya': 4,\n",
       " 'kamu': 5,\n",
       " 'sehat': 6,\n",
       " 'maaf': 7,\n",
       " 'tolong': 8,\n",
       " 'no_action': 9}"
      ]
     },
     "execution_count": 4,
     "metadata": {},
     "output_type": "execute_result"
    }
   ],
   "source": [
    "label_map = {label:num for num, label in enumerate(actions)}\n",
    "label_map"
   ]
  },
  {
   "cell_type": "markdown",
   "metadata": {},
   "source": [
    "Train Test"
   ]
  },
  {
   "cell_type": "code",
   "execution_count": 5,
   "metadata": {},
   "outputs": [],
   "source": [
    "sequences, labels = [], []\n",
    "for action in actions:\n",
    "    for sequence in np.array(os.listdir(os.path.join(DATA_PATH, action))).astype(int):\n",
    "        window = []\n",
    "        for frame_num in range(sequence_length):\n",
    "            res = np.load(os.path.join(DATA_PATH, action, str(sequence), '{}_keypoints_{}.npy'.format(action, frame_num)))\n",
    "            window.append(res)\n",
    "        sequences.append(window)\n",
    "        labels.append(label_map[action])"
   ]
  },
  {
   "cell_type": "code",
   "execution_count": 6,
   "metadata": {},
   "outputs": [],
   "source": [
    "X = np.array(sequences)"
   ]
  },
  {
   "cell_type": "code",
   "execution_count": 7,
   "metadata": {},
   "outputs": [],
   "source": [
    "y = to_categorical(labels).astype(int)"
   ]
  },
  {
   "cell_type": "code",
   "execution_count": 8,
   "metadata": {},
   "outputs": [
    {
     "name": "stdout",
     "output_type": "stream",
     "text": [
      "X Shape: (600, 30, 258)\n",
      "y Shape: (600, 10)\n"
     ]
    }
   ],
   "source": [
    "print('X Shape:', X.shape)\n",
    "print('y Shape:', y.shape)"
   ]
  },
  {
   "cell_type": "code",
   "execution_count": 9,
   "metadata": {},
   "outputs": [],
   "source": [
    "X_train, X_test, y_train, y_test = train_test_split(X, y, test_size=0.20,stratify=y)"
   ]
  },
  {
   "cell_type": "code",
   "execution_count": 10,
   "metadata": {},
   "outputs": [
    {
     "name": "stdout",
     "output_type": "stream",
     "text": [
      "X_train Shape: (480, 30, 258)\n",
      "y_train Shape: (480, 10)\n",
      "X_test Shape: (120, 30, 258)\n",
      "y_test Shape: (120, 10)\n"
     ]
    }
   ],
   "source": [
    "print('X_train Shape:',X_train.shape)\n",
    "print('y_train Shape:',y_train.shape)\n",
    "print('X_test Shape:',X_test.shape)\n",
    "print('y_test Shape:',y_test.shape)"
   ]
  },
  {
   "cell_type": "code",
   "execution_count": 11,
   "metadata": {},
   "outputs": [],
   "source": [
    "test_count_label = tf.reduce_sum(y_test, axis=0)\n",
    "train_count_label = tf.reduce_sum(y_train, axis=0)"
   ]
  },
  {
   "cell_type": "code",
   "execution_count": 12,
   "metadata": {},
   "outputs": [
    {
     "data": {
      "text/html": [
       "<div>\n",
       "<style scoped>\n",
       "    .dataframe tbody tr th:only-of-type {\n",
       "        vertical-align: middle;\n",
       "    }\n",
       "\n",
       "    .dataframe tbody tr th {\n",
       "        vertical-align: top;\n",
       "    }\n",
       "\n",
       "    .dataframe thead th {\n",
       "        text-align: right;\n",
       "    }\n",
       "</style>\n",
       "<table border=\"1\" class=\"dataframe\">\n",
       "  <thead>\n",
       "    <tr style=\"text-align: right;\">\n",
       "      <th></th>\n",
       "      <th>class_names</th>\n",
       "      <th>train_count</th>\n",
       "      <th>test_count</th>\n",
       "    </tr>\n",
       "  </thead>\n",
       "  <tbody>\n",
       "    <tr>\n",
       "      <th>0</th>\n",
       "      <td>apa</td>\n",
       "      <td>48</td>\n",
       "      <td>12</td>\n",
       "    </tr>\n",
       "    <tr>\n",
       "      <th>1</th>\n",
       "      <td>hai</td>\n",
       "      <td>48</td>\n",
       "      <td>12</td>\n",
       "    </tr>\n",
       "    <tr>\n",
       "      <th>2</th>\n",
       "      <td>nama</td>\n",
       "      <td>48</td>\n",
       "      <td>12</td>\n",
       "    </tr>\n",
       "    <tr>\n",
       "      <th>3</th>\n",
       "      <td>hobi</td>\n",
       "      <td>48</td>\n",
       "      <td>12</td>\n",
       "    </tr>\n",
       "    <tr>\n",
       "      <th>4</th>\n",
       "      <td>saya</td>\n",
       "      <td>48</td>\n",
       "      <td>12</td>\n",
       "    </tr>\n",
       "    <tr>\n",
       "      <th>5</th>\n",
       "      <td>kamu</td>\n",
       "      <td>48</td>\n",
       "      <td>12</td>\n",
       "    </tr>\n",
       "    <tr>\n",
       "      <th>6</th>\n",
       "      <td>sehat</td>\n",
       "      <td>48</td>\n",
       "      <td>12</td>\n",
       "    </tr>\n",
       "    <tr>\n",
       "      <th>7</th>\n",
       "      <td>maaf</td>\n",
       "      <td>48</td>\n",
       "      <td>12</td>\n",
       "    </tr>\n",
       "    <tr>\n",
       "      <th>8</th>\n",
       "      <td>tolong</td>\n",
       "      <td>48</td>\n",
       "      <td>12</td>\n",
       "    </tr>\n",
       "    <tr>\n",
       "      <th>9</th>\n",
       "      <td>no_action</td>\n",
       "      <td>48</td>\n",
       "      <td>12</td>\n",
       "    </tr>\n",
       "  </tbody>\n",
       "</table>\n",
       "</div>"
      ],
      "text/plain": [
       "  class_names  train_count  test_count\n",
       "0         apa           48          12\n",
       "1         hai           48          12\n",
       "2        nama           48          12\n",
       "3        hobi           48          12\n",
       "4        saya           48          12\n",
       "5        kamu           48          12\n",
       "6       sehat           48          12\n",
       "7        maaf           48          12\n",
       "8      tolong           48          12\n",
       "9   no_action           48          12"
      ]
     },
     "execution_count": 12,
     "metadata": {},
     "output_type": "execute_result"
    }
   ],
   "source": [
    "import pandas as pd\n",
    "\n",
    "left = pd.DataFrame(train_count_label,columns=['train_count'])\n",
    "right = pd.DataFrame(test_count_label,columns=['test_count'])\n",
    "df = left.join(right)\n",
    "\n",
    "actions_list = actions.tolist()\n",
    "\n",
    "left = pd.DataFrame(actions_list,columns=['class_names'])\n",
    "df = left.join(df)\n",
    "df"
   ]
  },
  {
   "cell_type": "code",
   "execution_count": 13,
   "metadata": {},
   "outputs": [
    {
     "data": {
      "text/plain": [
       "Text(0.5, 1.0, 'Distribution of Train & Test Data after train_test_split')"
      ]
     },
     "execution_count": 13,
     "metadata": {},
     "output_type": "execute_result"
    },
    {
     "data": {
      "image/png": "[encoded data removed]",
      "text/plain": [
       "<Figure size 640x480 with 1 Axes>"
      ]
     },
     "metadata": {},
     "output_type": "display_data"
    }
   ],
   "source": [
    "ax = df.plot.bar(x='class_names',rot=90)\n",
    "ax.set_title('Distribution of Train & Test Data after train_test_split')"
   ]
  },
  {
   "cell_type": "code",
   "execution_count": 14,
   "metadata": {},
   "outputs": [],
   "source": [
    "from tensorflow.keras.models import Sequential\n",
    "from tensorflow.keras.applications import MobileNetV3Small\n",
    "from tensorflow.keras.layers import  Input, Flatten, Dense, LSTM, TimeDistributed\n",
    "from tensorflow.keras.layers import Conv2D, DepthwiseConv2D, MaxPooling2D, Dropout, GlobalAveragePooling2D\n",
    "from tensorflow.keras.models import Model\n",
    "from tensorflow.keras.callbacks import TensorBoard\n",
    "from tensorflow.keras.callbacks import Callback"
   ]
  },
  {
   "cell_type": "code",
   "execution_count": 15,
   "metadata": {},
   "outputs": [],
   "source": [
    "log_dir = os.path.join('Model')\n",
    "tb_callback = TensorBoard(log_dir=log_dir)"
   ]
  },
  {
   "cell_type": "code",
   "execution_count": 16,
   "metadata": {},
   "outputs": [],
   "source": [
    "class StopTrainingCallback(Callback):\n",
    "    def on_epoch_end(self, epoch, logs={}):\n",
    "        if epoch > 50 and logs.get('loss') < 0.09 and (logs.get('accuracy') < 0.99 and logs.get('accuracy') > 0.88):\n",
    "            print(\"Stopping training\")\n",
    "            self.model.stop_training = True\n",
    "stop_callback = StopTrainingCallback()"
   ]
  },
  {
   "cell_type": "code",
   "execution_count": 17,
   "metadata": {},
   "outputs": [],
   "source": [
    "lstm_input = Input(shape=(30, 258))"
   ]
  },
  {
   "cell_type": "code",
   "execution_count": 18,
   "metadata": {},
   "outputs": [],
   "source": [
    "model = Sequential()\n",
    "model.add(LSTM(64, return_sequences=True, activation='relu', input_shape=(30,258)))\n",
    "model.add(Dropout(0.2))\n",
    "model.add(LSTM(128, return_sequences=True, activation='relu'))\n",
    "model.add(Dropout(0.2))\n",
    "model.add(LSTM(64, return_sequences=False, activation='relu')) \n",
    "model.add(Dense(64, activation='relu'))\n",
    "model.add(Dense(32, activation='relu'))\n",
    "model.add(Dense(actions.shape[0], activation='softmax'))"
   ]
  },
  {
   "cell_type": "code",
   "execution_count": 19,
   "metadata": {},
   "outputs": [],
   "source": [
    "from tensorflow.keras.optimizers import Adam\n",
    "\n",
    "learning_rate = 0.001\n",
    "optimizer = Adam(learning_rate=learning_rate)\n",
    "model.compile(optimizer='Adam', loss='categorical_crossentropy', metrics=['accuracy'])"
   ]
  },
  {
   "cell_type": "code",
   "execution_count": 20,
   "metadata": {},
   "outputs": [
    {
     "name": "stdout",
     "output_type": "stream",
     "text": [
      "Epoch 1/100\n",
      "15/15 - 5s - loss: 1.9065 - accuracy: 0.2896 - val_loss: 1.5351 - val_accuracy: 0.4000 - 5s/epoch - 323ms/step\n",
      "Epoch 2/100\n",
      "15/15 - 1s - loss: 1.6666 - accuracy: 0.5396 - val_loss: 1.7386 - val_accuracy: 0.3417 - 942ms/epoch - 63ms/step\n",
      "Epoch 3/100\n",
      "15/15 - 1s - loss: 2.0267 - accuracy: 0.4437 - val_loss: 1.1911 - val_accuracy: 0.6167 - 924ms/epoch - 62ms/step\n",
      "Epoch 4/100\n",
      "15/15 - 1s - loss: 10.3857 - accuracy: 0.4271 - val_loss: 51.8484 - val_accuracy: 0.2417 - 941ms/epoch - 63ms/step\n",
      "Epoch 5/100\n",
      "15/15 - 1s - loss: 21.8857 - accuracy: 0.3438 - val_loss: 2.1746 - val_accuracy: 0.4417 - 938ms/epoch - 63ms/step\n",
      "Epoch 6/100\n",
      "15/15 - 1s - loss: 1.7554 - accuracy: 0.4375 - val_loss: 0.9780 - val_accuracy: 0.6333 - 945ms/epoch - 63ms/step\n",
      "Epoch 7/100\n",
      "15/15 - 1s - loss: 1.0606 - accuracy: 0.6000 - val_loss: 0.8347 - val_accuracy: 0.7417 - 951ms/epoch - 63ms/step\n",
      "Epoch 8/100\n",
      "15/15 - 1s - loss: 0.7816 - accuracy: 0.6938 - val_loss: 0.5036 - val_accuracy: 0.7333 - 953ms/epoch - 64ms/step\n",
      "Epoch 9/100\n",
      "15/15 - 1s - loss: 0.5088 - accuracy: 0.7854 - val_loss: 0.3436 - val_accuracy: 0.9000 - 941ms/epoch - 63ms/step\n",
      "Epoch 10/100\n",
      "15/15 - 1s - loss: 0.5604 - accuracy: 0.7625 - val_loss: 0.2680 - val_accuracy: 0.8833 - 943ms/epoch - 63ms/step\n",
      "Epoch 11/100\n",
      "15/15 - 1s - loss: 0.3818 - accuracy: 0.8500 - val_loss: 0.3203 - val_accuracy: 0.9417 - 928ms/epoch - 62ms/step\n",
      "Epoch 12/100\n",
      "15/15 - 1s - loss: 0.2694 - accuracy: 0.9333 - val_loss: 0.0615 - val_accuracy: 1.0000 - 934ms/epoch - 62ms/step\n",
      "Epoch 13/100\n",
      "15/15 - 1s - loss: 0.2611 - accuracy: 0.9083 - val_loss: 0.1021 - val_accuracy: 0.9667 - 903ms/epoch - 60ms/step\n",
      "Epoch 14/100\n",
      "15/15 - 1s - loss: 0.2530 - accuracy: 0.9396 - val_loss: 0.0815 - val_accuracy: 0.9833 - 947ms/epoch - 63ms/step\n",
      "Epoch 15/100\n",
      "15/15 - 1s - loss: 0.1737 - accuracy: 0.9521 - val_loss: 0.1079 - val_accuracy: 0.9750 - 951ms/epoch - 63ms/step\n",
      "Epoch 16/100\n",
      "15/15 - 1s - loss: 0.2143 - accuracy: 0.9375 - val_loss: 0.0655 - val_accuracy: 0.9917 - 962ms/epoch - 64ms/step\n",
      "Epoch 17/100\n",
      "15/15 - 1s - loss: 0.3322 - accuracy: 0.8917 - val_loss: 0.1067 - val_accuracy: 0.9750 - 1s/epoch - 70ms/step\n",
      "Epoch 18/100\n",
      "15/15 - 1s - loss: 0.2094 - accuracy: 0.9479 - val_loss: 0.0898 - val_accuracy: 0.9583 - 989ms/epoch - 66ms/step\n",
      "Epoch 19/100\n",
      "15/15 - 1s - loss: 0.0947 - accuracy: 0.9750 - val_loss: 0.0232 - val_accuracy: 0.9917 - 968ms/epoch - 65ms/step\n",
      "Epoch 20/100\n",
      "15/15 - 1s - loss: 0.1466 - accuracy: 0.9521 - val_loss: 0.0170 - val_accuracy: 1.0000 - 980ms/epoch - 65ms/step\n",
      "Epoch 21/100\n",
      "15/15 - 1s - loss: 0.1129 - accuracy: 0.9604 - val_loss: 0.0210 - val_accuracy: 1.0000 - 985ms/epoch - 66ms/step\n",
      "Epoch 22/100\n",
      "15/15 - 1s - loss: 0.1208 - accuracy: 0.9563 - val_loss: 0.0124 - val_accuracy: 1.0000 - 1s/epoch - 67ms/step\n",
      "Epoch 23/100\n",
      "15/15 - 1s - loss: 0.1006 - accuracy: 0.9688 - val_loss: 0.0243 - val_accuracy: 1.0000 - 955ms/epoch - 64ms/step\n",
      "Epoch 24/100\n",
      "15/15 - 1s - loss: 0.0520 - accuracy: 0.9875 - val_loss: 0.0082 - val_accuracy: 1.0000 - 1s/epoch - 70ms/step\n",
      "Epoch 25/100\n",
      "15/15 - 1s - loss: 0.1277 - accuracy: 0.9792 - val_loss: 0.2165 - val_accuracy: 0.9417 - 983ms/epoch - 66ms/step\n",
      "Epoch 26/100\n",
      "15/15 - 1s - loss: 0.1779 - accuracy: 0.9646 - val_loss: 0.2912 - val_accuracy: 0.9167 - 972ms/epoch - 65ms/step\n",
      "Epoch 27/100\n",
      "15/15 - 1s - loss: 0.1487 - accuracy: 0.9396 - val_loss: 0.0583 - val_accuracy: 0.9917 - 924ms/epoch - 62ms/step\n",
      "Epoch 28/100\n",
      "15/15 - 1s - loss: 0.0555 - accuracy: 0.9896 - val_loss: 0.0091 - val_accuracy: 1.0000 - 909ms/epoch - 61ms/step\n",
      "Epoch 29/100\n",
      "15/15 - 1s - loss: 0.0739 - accuracy: 0.9667 - val_loss: 0.0888 - val_accuracy: 0.9917 - 900ms/epoch - 60ms/step\n",
      "Epoch 30/100\n",
      "15/15 - 1s - loss: 0.1418 - accuracy: 0.9708 - val_loss: 0.1452 - val_accuracy: 0.9250 - 895ms/epoch - 60ms/step\n",
      "Epoch 31/100\n",
      "15/15 - 1s - loss: 0.0875 - accuracy: 0.9729 - val_loss: 0.0202 - val_accuracy: 1.0000 - 949ms/epoch - 63ms/step\n",
      "Epoch 32/100\n",
      "15/15 - 1s - loss: 0.0420 - accuracy: 0.9854 - val_loss: 0.0938 - val_accuracy: 0.9333 - 950ms/epoch - 63ms/step\n",
      "Epoch 33/100\n",
      "15/15 - 1s - loss: 0.1041 - accuracy: 0.9729 - val_loss: 0.0900 - val_accuracy: 0.9500 - 941ms/epoch - 63ms/step\n",
      "Epoch 34/100\n",
      "15/15 - 1s - loss: 0.0422 - accuracy: 0.9812 - val_loss: 0.0094 - val_accuracy: 0.9917 - 947ms/epoch - 63ms/step\n",
      "Epoch 35/100\n",
      "15/15 - 1s - loss: 0.0273 - accuracy: 0.9896 - val_loss: 0.0463 - val_accuracy: 0.9917 - 975ms/epoch - 65ms/step\n",
      "Epoch 36/100\n",
      "15/15 - 1s - loss: 0.0573 - accuracy: 0.9771 - val_loss: 0.0388 - val_accuracy: 0.9833 - 954ms/epoch - 64ms/step\n",
      "Epoch 37/100\n",
      "15/15 - 1s - loss: 0.0564 - accuracy: 0.9812 - val_loss: 0.0298 - val_accuracy: 1.0000 - 1s/epoch - 70ms/step\n",
      "Epoch 38/100\n",
      "15/15 - 1s - loss: 0.0314 - accuracy: 0.9896 - val_loss: 0.0879 - val_accuracy: 0.9833 - 970ms/epoch - 65ms/step\n",
      "Epoch 39/100\n",
      "15/15 - 1s - loss: 0.0313 - accuracy: 0.9896 - val_loss: 0.0017 - val_accuracy: 1.0000 - 951ms/epoch - 63ms/step\n",
      "Epoch 40/100\n",
      "15/15 - 1s - loss: 0.0392 - accuracy: 0.9875 - val_loss: 0.0045 - val_accuracy: 1.0000 - 964ms/epoch - 64ms/step\n",
      "Epoch 41/100\n",
      "15/15 - 1s - loss: 0.0328 - accuracy: 0.9896 - val_loss: 0.0010 - val_accuracy: 1.0000 - 974ms/epoch - 65ms/step\n",
      "Epoch 42/100\n",
      "15/15 - 1s - loss: 0.0233 - accuracy: 0.9958 - val_loss: 0.0159 - val_accuracy: 0.9917 - 973ms/epoch - 65ms/step\n",
      "Epoch 43/100\n",
      "15/15 - 1s - loss: 0.0151 - accuracy: 0.9937 - val_loss: 0.0020 - val_accuracy: 1.0000 - 1s/epoch - 76ms/step\n",
      "Epoch 44/100\n",
      "15/15 - 1s - loss: 0.0179 - accuracy: 0.9917 - val_loss: 0.0051 - val_accuracy: 1.0000 - 934ms/epoch - 62ms/step\n",
      "Epoch 45/100\n",
      "15/15 - 1s - loss: 0.0069 - accuracy: 0.9979 - val_loss: 9.8582e-04 - val_accuracy: 1.0000 - 946ms/epoch - 63ms/step\n",
      "Epoch 46/100\n",
      "15/15 - 1s - loss: 0.0131 - accuracy: 0.9937 - val_loss: 0.0111 - val_accuracy: 0.9917 - 976ms/epoch - 65ms/step\n",
      "Epoch 47/100\n",
      "15/15 - 1s - loss: 0.0688 - accuracy: 0.9833 - val_loss: 0.0491 - val_accuracy: 0.9917 - 906ms/epoch - 60ms/step\n",
      "Epoch 48/100\n",
      "15/15 - 1s - loss: 0.1390 - accuracy: 0.9458 - val_loss: 0.2057 - val_accuracy: 0.9083 - 994ms/epoch - 66ms/step\n",
      "Epoch 49/100\n",
      "15/15 - 1s - loss: 0.0745 - accuracy: 0.9792 - val_loss: 0.0114 - val_accuracy: 1.0000 - 941ms/epoch - 63ms/step\n",
      "Epoch 50/100\n",
      "15/15 - 1s - loss: 0.0210 - accuracy: 0.9917 - val_loss: 0.0022 - val_accuracy: 1.0000 - 917ms/epoch - 61ms/step\n",
      "Epoch 51/100\n",
      "15/15 - 1s - loss: 0.0406 - accuracy: 0.9812 - val_loss: 0.0846 - val_accuracy: 0.9833 - 994ms/epoch - 66ms/step\n",
      "Epoch 52/100\n",
      "Stopping training\n",
      "15/15 - 1s - loss: 0.0556 - accuracy: 0.9854 - val_loss: 0.0856 - val_accuracy: 0.9917 - 956ms/epoch - 64ms/step\n"
     ]
    }
   ],
   "source": [
    "history = model.fit(X_train, y_train, epochs=100, validation_data=(X_test, y_test), batch_size=32, verbose=2, callbacks=[tb_callback, stop_callback])"
   ]
  },
  {
   "cell_type": "code",
   "execution_count": 21,
   "metadata": {},
   "outputs": [
    {
     "name": "stdout",
     "output_type": "stream",
     "text": [
      "Model: \"sequential\"\n",
      "_________________________________________________________________\n",
      " Layer (type)                Output Shape              Param #   \n",
      "=================================================================\n",
      " lstm (LSTM)                 (None, 30, 64)            82688     \n",
      "                                                                 \n",
      " dropout (Dropout)           (None, 30, 64)            0         \n",
      "                                                                 \n",
      " lstm_1 (LSTM)               (None, 30, 128)           98816     \n",
      "                                                                 \n",
      " dropout_1 (Dropout)         (None, 30, 128)           0         \n",
      "                                                                 \n",
      " lstm_2 (LSTM)               (None, 64)                49408     \n",
      "                                                                 \n",
      " dense (Dense)               (None, 64)                4160      \n",
      "                                                                 \n",
      " dense_1 (Dense)             (None, 32)                2080      \n",
      "                                                                 \n",
      " dense_2 (Dense)             (None, 10)                330       \n",
      "                                                                 \n",
      "=================================================================\n",
      "Total params: 237,482\n",
      "Trainable params: 237,482\n",
      "Non-trainable params: 0\n",
      "_________________________________________________________________\n"
     ]
    }
   ],
   "source": [
    "model.summary()"
   ]
  },
  {
   "cell_type": "code",
   "execution_count": 22,
   "metadata": {},
   "outputs": [
    {
     "name": "stdout",
     "output_type": "stream",
     "text": [
      "dict_keys(['loss', 'accuracy', 'val_loss', 'val_accuracy'])\n"
     ]
    }
   ],
   "source": [
    "print(history.history.keys())"
   ]
  },
  {
   "cell_type": "code",
   "execution_count": 23,
   "metadata": {},
   "outputs": [
    {
     "data": {
      "text/html": [
       "<div>\n",
       "<style scoped>\n",
       "    .dataframe tbody tr th:only-of-type {\n",
       "        vertical-align: middle;\n",
       "    }\n",
       "\n",
       "    .dataframe tbody tr th {\n",
       "        vertical-align: top;\n",
       "    }\n",
       "\n",
       "    .dataframe thead th {\n",
       "        text-align: right;\n",
       "    }\n",
       "</style>\n",
       "<table border=\"1\" class=\"dataframe\">\n",
       "  <thead>\n",
       "    <tr style=\"text-align: right;\">\n",
       "      <th></th>\n",
       "      <th>loss</th>\n",
       "      <th>accuracy</th>\n",
       "      <th>val_loss</th>\n",
       "      <th>val_accuracy</th>\n",
       "    </tr>\n",
       "  </thead>\n",
       "  <tbody>\n",
       "    <tr>\n",
       "      <th>0</th>\n",
       "      <td>1.906469</td>\n",
       "      <td>0.289583</td>\n",
       "      <td>1.535101</td>\n",
       "      <td>0.400000</td>\n",
       "    </tr>\n",
       "    <tr>\n",
       "      <th>1</th>\n",
       "      <td>1.666562</td>\n",
       "      <td>0.539583</td>\n",
       "      <td>1.738647</td>\n",
       "      <td>0.341667</td>\n",
       "    </tr>\n",
       "    <tr>\n",
       "      <th>2</th>\n",
       "      <td>2.026736</td>\n",
       "      <td>0.443750</td>\n",
       "      <td>1.191123</td>\n",
       "      <td>0.616667</td>\n",
       "    </tr>\n",
       "    <tr>\n",
       "      <th>3</th>\n",
       "      <td>10.385730</td>\n",
       "      <td>0.427083</td>\n",
       "      <td>51.848392</td>\n",
       "      <td>0.241667</td>\n",
       "    </tr>\n",
       "    <tr>\n",
       "      <th>4</th>\n",
       "      <td>21.885689</td>\n",
       "      <td>0.343750</td>\n",
       "      <td>2.174617</td>\n",
       "      <td>0.441667</td>\n",
       "    </tr>\n",
       "    <tr>\n",
       "      <th>5</th>\n",
       "      <td>1.755413</td>\n",
       "      <td>0.437500</td>\n",
       "      <td>0.978032</td>\n",
       "      <td>0.633333</td>\n",
       "    </tr>\n",
       "    <tr>\n",
       "      <th>6</th>\n",
       "      <td>1.060649</td>\n",
       "      <td>0.600000</td>\n",
       "      <td>0.834716</td>\n",
       "      <td>0.741667</td>\n",
       "    </tr>\n",
       "    <tr>\n",
       "      <th>7</th>\n",
       "      <td>0.781576</td>\n",
       "      <td>0.693750</td>\n",
       "      <td>0.503622</td>\n",
       "      <td>0.733333</td>\n",
       "    </tr>\n",
       "    <tr>\n",
       "      <th>8</th>\n",
       "      <td>0.508821</td>\n",
       "      <td>0.785417</td>\n",
       "      <td>0.343588</td>\n",
       "      <td>0.900000</td>\n",
       "    </tr>\n",
       "    <tr>\n",
       "      <th>9</th>\n",
       "      <td>0.560374</td>\n",
       "      <td>0.762500</td>\n",
       "      <td>0.268028</td>\n",
       "      <td>0.883333</td>\n",
       "    </tr>\n",
       "    <tr>\n",
       "      <th>10</th>\n",
       "      <td>0.381759</td>\n",
       "      <td>0.850000</td>\n",
       "      <td>0.320306</td>\n",
       "      <td>0.941667</td>\n",
       "    </tr>\n",
       "    <tr>\n",
       "      <th>11</th>\n",
       "      <td>0.269403</td>\n",
       "      <td>0.933333</td>\n",
       "      <td>0.061466</td>\n",
       "      <td>1.000000</td>\n",
       "    </tr>\n",
       "    <tr>\n",
       "      <th>12</th>\n",
       "      <td>0.261113</td>\n",
       "      <td>0.908333</td>\n",
       "      <td>0.102104</td>\n",
       "      <td>0.966667</td>\n",
       "    </tr>\n",
       "    <tr>\n",
       "      <th>13</th>\n",
       "      <td>0.253043</td>\n",
       "      <td>0.939583</td>\n",
       "      <td>0.081512</td>\n",
       "      <td>0.983333</td>\n",
       "    </tr>\n",
       "    <tr>\n",
       "      <th>14</th>\n",
       "      <td>0.173726</td>\n",
       "      <td>0.952083</td>\n",
       "      <td>0.107876</td>\n",
       "      <td>0.975000</td>\n",
       "    </tr>\n",
       "    <tr>\n",
       "      <th>15</th>\n",
       "      <td>0.214287</td>\n",
       "      <td>0.937500</td>\n",
       "      <td>0.065542</td>\n",
       "      <td>0.991667</td>\n",
       "    </tr>\n",
       "    <tr>\n",
       "      <th>16</th>\n",
       "      <td>0.332218</td>\n",
       "      <td>0.891667</td>\n",
       "      <td>0.106675</td>\n",
       "      <td>0.975000</td>\n",
       "    </tr>\n",
       "    <tr>\n",
       "      <th>17</th>\n",
       "      <td>0.209353</td>\n",
       "      <td>0.947917</td>\n",
       "      <td>0.089804</td>\n",
       "      <td>0.958333</td>\n",
       "    </tr>\n",
       "    <tr>\n",
       "      <th>18</th>\n",
       "      <td>0.094653</td>\n",
       "      <td>0.975000</td>\n",
       "      <td>0.023228</td>\n",
       "      <td>0.991667</td>\n",
       "    </tr>\n",
       "    <tr>\n",
       "      <th>19</th>\n",
       "      <td>0.146632</td>\n",
       "      <td>0.952083</td>\n",
       "      <td>0.016971</td>\n",
       "      <td>1.000000</td>\n",
       "    </tr>\n",
       "    <tr>\n",
       "      <th>20</th>\n",
       "      <td>0.112913</td>\n",
       "      <td>0.960417</td>\n",
       "      <td>0.020995</td>\n",
       "      <td>1.000000</td>\n",
       "    </tr>\n",
       "    <tr>\n",
       "      <th>21</th>\n",
       "      <td>0.120789</td>\n",
       "      <td>0.956250</td>\n",
       "      <td>0.012423</td>\n",
       "      <td>1.000000</td>\n",
       "    </tr>\n",
       "    <tr>\n",
       "      <th>22</th>\n",
       "      <td>0.100625</td>\n",
       "      <td>0.968750</td>\n",
       "      <td>0.024331</td>\n",
       "      <td>1.000000</td>\n",
       "    </tr>\n",
       "    <tr>\n",
       "      <th>23</th>\n",
       "      <td>0.051977</td>\n",
       "      <td>0.987500</td>\n",
       "      <td>0.008171</td>\n",
       "      <td>1.000000</td>\n",
       "    </tr>\n",
       "    <tr>\n",
       "      <th>24</th>\n",
       "      <td>0.127732</td>\n",
       "      <td>0.979167</td>\n",
       "      <td>0.216525</td>\n",
       "      <td>0.941667</td>\n",
       "    </tr>\n",
       "    <tr>\n",
       "      <th>25</th>\n",
       "      <td>0.177882</td>\n",
       "      <td>0.964583</td>\n",
       "      <td>0.291245</td>\n",
       "      <td>0.916667</td>\n",
       "    </tr>\n",
       "    <tr>\n",
       "      <th>26</th>\n",
       "      <td>0.148681</td>\n",
       "      <td>0.939583</td>\n",
       "      <td>0.058262</td>\n",
       "      <td>0.991667</td>\n",
       "    </tr>\n",
       "    <tr>\n",
       "      <th>27</th>\n",
       "      <td>0.055461</td>\n",
       "      <td>0.989583</td>\n",
       "      <td>0.009082</td>\n",
       "      <td>1.000000</td>\n",
       "    </tr>\n",
       "    <tr>\n",
       "      <th>28</th>\n",
       "      <td>0.073937</td>\n",
       "      <td>0.966667</td>\n",
       "      <td>0.088755</td>\n",
       "      <td>0.991667</td>\n",
       "    </tr>\n",
       "    <tr>\n",
       "      <th>29</th>\n",
       "      <td>0.141823</td>\n",
       "      <td>0.970833</td>\n",
       "      <td>0.145238</td>\n",
       "      <td>0.925000</td>\n",
       "    </tr>\n",
       "    <tr>\n",
       "      <th>30</th>\n",
       "      <td>0.087533</td>\n",
       "      <td>0.972917</td>\n",
       "      <td>0.020249</td>\n",
       "      <td>1.000000</td>\n",
       "    </tr>\n",
       "    <tr>\n",
       "      <th>31</th>\n",
       "      <td>0.042030</td>\n",
       "      <td>0.985417</td>\n",
       "      <td>0.093769</td>\n",
       "      <td>0.933333</td>\n",
       "    </tr>\n",
       "    <tr>\n",
       "      <th>32</th>\n",
       "      <td>0.104148</td>\n",
       "      <td>0.972917</td>\n",
       "      <td>0.089990</td>\n",
       "      <td>0.950000</td>\n",
       "    </tr>\n",
       "    <tr>\n",
       "      <th>33</th>\n",
       "      <td>0.042165</td>\n",
       "      <td>0.981250</td>\n",
       "      <td>0.009394</td>\n",
       "      <td>0.991667</td>\n",
       "    </tr>\n",
       "    <tr>\n",
       "      <th>34</th>\n",
       "      <td>0.027278</td>\n",
       "      <td>0.989583</td>\n",
       "      <td>0.046279</td>\n",
       "      <td>0.991667</td>\n",
       "    </tr>\n",
       "    <tr>\n",
       "      <th>35</th>\n",
       "      <td>0.057328</td>\n",
       "      <td>0.977083</td>\n",
       "      <td>0.038804</td>\n",
       "      <td>0.983333</td>\n",
       "    </tr>\n",
       "    <tr>\n",
       "      <th>36</th>\n",
       "      <td>0.056448</td>\n",
       "      <td>0.981250</td>\n",
       "      <td>0.029790</td>\n",
       "      <td>1.000000</td>\n",
       "    </tr>\n",
       "    <tr>\n",
       "      <th>37</th>\n",
       "      <td>0.031444</td>\n",
       "      <td>0.989583</td>\n",
       "      <td>0.087890</td>\n",
       "      <td>0.983333</td>\n",
       "    </tr>\n",
       "    <tr>\n",
       "      <th>38</th>\n",
       "      <td>0.031313</td>\n",
       "      <td>0.989583</td>\n",
       "      <td>0.001663</td>\n",
       "      <td>1.000000</td>\n",
       "    </tr>\n",
       "    <tr>\n",
       "      <th>39</th>\n",
       "      <td>0.039249</td>\n",
       "      <td>0.987500</td>\n",
       "      <td>0.004475</td>\n",
       "      <td>1.000000</td>\n",
       "    </tr>\n",
       "    <tr>\n",
       "      <th>40</th>\n",
       "      <td>0.032772</td>\n",
       "      <td>0.989583</td>\n",
       "      <td>0.001003</td>\n",
       "      <td>1.000000</td>\n",
       "    </tr>\n",
       "    <tr>\n",
       "      <th>41</th>\n",
       "      <td>0.023269</td>\n",
       "      <td>0.995833</td>\n",
       "      <td>0.015871</td>\n",
       "      <td>0.991667</td>\n",
       "    </tr>\n",
       "    <tr>\n",
       "      <th>42</th>\n",
       "      <td>0.015144</td>\n",
       "      <td>0.993750</td>\n",
       "      <td>0.002006</td>\n",
       "      <td>1.000000</td>\n",
       "    </tr>\n",
       "    <tr>\n",
       "      <th>43</th>\n",
       "      <td>0.017925</td>\n",
       "      <td>0.991667</td>\n",
       "      <td>0.005083</td>\n",
       "      <td>1.000000</td>\n",
       "    </tr>\n",
       "    <tr>\n",
       "      <th>44</th>\n",
       "      <td>0.006898</td>\n",
       "      <td>0.997917</td>\n",
       "      <td>0.000986</td>\n",
       "      <td>1.000000</td>\n",
       "    </tr>\n",
       "    <tr>\n",
       "      <th>45</th>\n",
       "      <td>0.013145</td>\n",
       "      <td>0.993750</td>\n",
       "      <td>0.011051</td>\n",
       "      <td>0.991667</td>\n",
       "    </tr>\n",
       "    <tr>\n",
       "      <th>46</th>\n",
       "      <td>0.068824</td>\n",
       "      <td>0.983333</td>\n",
       "      <td>0.049127</td>\n",
       "      <td>0.991667</td>\n",
       "    </tr>\n",
       "    <tr>\n",
       "      <th>47</th>\n",
       "      <td>0.139026</td>\n",
       "      <td>0.945833</td>\n",
       "      <td>0.205663</td>\n",
       "      <td>0.908333</td>\n",
       "    </tr>\n",
       "    <tr>\n",
       "      <th>48</th>\n",
       "      <td>0.074452</td>\n",
       "      <td>0.979167</td>\n",
       "      <td>0.011357</td>\n",
       "      <td>1.000000</td>\n",
       "    </tr>\n",
       "    <tr>\n",
       "      <th>49</th>\n",
       "      <td>0.020995</td>\n",
       "      <td>0.991667</td>\n",
       "      <td>0.002249</td>\n",
       "      <td>1.000000</td>\n",
       "    </tr>\n",
       "    <tr>\n",
       "      <th>50</th>\n",
       "      <td>0.040586</td>\n",
       "      <td>0.981250</td>\n",
       "      <td>0.084593</td>\n",
       "      <td>0.983333</td>\n",
       "    </tr>\n",
       "    <tr>\n",
       "      <th>51</th>\n",
       "      <td>0.055584</td>\n",
       "      <td>0.985417</td>\n",
       "      <td>0.085553</td>\n",
       "      <td>0.991667</td>\n",
       "    </tr>\n",
       "  </tbody>\n",
       "</table>\n",
       "</div>"
      ],
      "text/plain": [
       "         loss  accuracy   val_loss  val_accuracy\n",
       "0    1.906469  0.289583   1.535101      0.400000\n",
       "1    1.666562  0.539583   1.738647      0.341667\n",
       "2    2.026736  0.443750   1.191123      0.616667\n",
       "3   10.385730  0.427083  51.848392      0.241667\n",
       "4   21.885689  0.343750   2.174617      0.441667\n",
       "5    1.755413  0.437500   0.978032      0.633333\n",
       "6    1.060649  0.600000   0.834716      0.741667\n",
       "7    0.781576  0.693750   0.503622      0.733333\n",
       "8    0.508821  0.785417   0.343588      0.900000\n",
       "9    0.560374  0.762500   0.268028      0.883333\n",
       "10   0.381759  0.850000   0.320306      0.941667\n",
       "11   0.269403  0.933333   0.061466      1.000000\n",
       "12   0.261113  0.908333   0.102104      0.966667\n",
       "13   0.253043  0.939583   0.081512      0.983333\n",
       "14   0.173726  0.952083   0.107876      0.975000\n",
       "15   0.214287  0.937500   0.065542      0.991667\n",
       "16   0.332218  0.891667   0.106675      0.975000\n",
       "17   0.209353  0.947917   0.089804      0.958333\n",
       "18   0.094653  0.975000   0.023228      0.991667\n",
       "19   0.146632  0.952083   0.016971      1.000000\n",
       "20   0.112913  0.960417   0.020995      1.000000\n",
       "21   0.120789  0.956250   0.012423      1.000000\n",
       "22   0.100625  0.968750   0.024331      1.000000\n",
       "23   0.051977  0.987500   0.008171      1.000000\n",
       "24   0.127732  0.979167   0.216525      0.941667\n",
       "25   0.177882  0.964583   0.291245      0.916667\n",
       "26   0.148681  0.939583   0.058262      0.991667\n",
       "27   0.055461  0.989583   0.009082      1.000000\n",
       "28   0.073937  0.966667   0.088755      0.991667\n",
       "29   0.141823  0.970833   0.145238      0.925000\n",
       "30   0.087533  0.972917   0.020249      1.000000\n",
       "31   0.042030  0.985417   0.093769      0.933333\n",
       "32   0.104148  0.972917   0.089990      0.950000\n",
       "33   0.042165  0.981250   0.009394      0.991667\n",
       "34   0.027278  0.989583   0.046279      0.991667\n",
       "35   0.057328  0.977083   0.038804      0.983333\n",
       "36   0.056448  0.981250   0.029790      1.000000\n",
       "37   0.031444  0.989583   0.087890      0.983333\n",
       "38   0.031313  0.989583   0.001663      1.000000\n",
       "39   0.039249  0.987500   0.004475      1.000000\n",
       "40   0.032772  0.989583   0.001003      1.000000\n",
       "41   0.023269  0.995833   0.015871      0.991667\n",
       "42   0.015144  0.993750   0.002006      1.000000\n",
       "43   0.017925  0.991667   0.005083      1.000000\n",
       "44   0.006898  0.997917   0.000986      1.000000\n",
       "45   0.013145  0.993750   0.011051      0.991667\n",
       "46   0.068824  0.983333   0.049127      0.991667\n",
       "47   0.139026  0.945833   0.205663      0.908333\n",
       "48   0.074452  0.979167   0.011357      1.000000\n",
       "49   0.020995  0.991667   0.002249      1.000000\n",
       "50   0.040586  0.981250   0.084593      0.983333\n",
       "51   0.055584  0.985417   0.085553      0.991667"
      ]
     },
     "execution_count": 23,
     "metadata": {},
     "output_type": "execute_result"
    }
   ],
   "source": [
    "import pandas as pd   \n",
    "hist_df = pd.DataFrame(history.history)\n",
    "hist_df"
   ]
  },
  {
   "cell_type": "code",
   "execution_count": 24,
   "metadata": {},
   "outputs": [
    {
     "name": "stdout",
     "output_type": "stream",
     "text": [
      "Index of Minimum Loss = 44\n",
      "Minimum Loss = 0.01\n"
     ]
    }
   ],
   "source": [
    "min_loss_epoch = hist_df[hist_df['loss']==min(hist_df['loss'])].index.values\n",
    "min_loss = min(hist_df['loss'])\n",
    "print('Index of Minimum Loss =',min_loss_epoch[0])\n",
    "print('Minimum Loss =',round(min_loss,2))"
   ]
  },
  {
   "cell_type": "code",
   "execution_count": 25,
   "metadata": {},
   "outputs": [
    {
     "data": {
      "image/png": "[encoded data removed]",
      "text/plain": [
       "<Figure size 640x480 with 1 Axes>"
      ]
     },
     "metadata": {},
     "output_type": "display_data"
    },
    {
     "data": {
      "image/png": "[encoded data removed]",
      "text/plain": [
       "<Figure size 640x480 with 1 Axes>"
      ]
     },
     "metadata": {},
     "output_type": "display_data"
    }
   ],
   "source": [
    "plt.plot(history.history['accuracy'])\n",
    "plt.plot(history.history['val_accuracy'])\n",
    "plt.title('Model Training and Validation Categorical Accuracy')\n",
    "plt.ylabel('accuracy')\n",
    "plt.xlabel('epoch')\n",
    "plt.legend(['train', 'validation'], loc='upper left')\n",
    "plt.show()\n",
    "\n",
    "plt.plot(history.history['loss'])\n",
    "plt.plot(history.history['val_loss'])\n",
    "plt.title('Model Training and Validation Loss')\n",
    "plt.ylabel('loss')\n",
    "plt.xlabel('epoch')\n",
    "plt.legend(['train', 'validation'], loc='upper left')\n",
    "plt.show()"
   ]
  },
  {
   "cell_type": "code",
   "execution_count": 26,
   "metadata": {},
   "outputs": [
    {
     "name": "stdout",
     "output_type": "stream",
     "text": [
      "4/4 [==============================] - 1s 19ms/step\n",
      "Latency: 1.3209240436553955 seconds\n"
     ]
    }
   ],
   "source": [
    "import time\n",
    "\n",
    "start_time = time.time()\n",
    "predictions = model.predict(X_test)\n",
    "end_time = time.time()\n",
    "\n",
    "latency = end_time - start_time\n",
    "print(f\"Latency: {latency} seconds\")"
   ]
  },
  {
   "cell_type": "markdown",
   "metadata": {},
   "source": [
    "Save and Reload Model"
   ]
  },
  {
   "cell_type": "code",
   "execution_count": 27,
   "metadata": {},
   "outputs": [],
   "source": [
    "import os\n",
    "from keras.models import load_model\n",
    "\n",
    "save_folder = './Model'\n",
    "if not os.path.exists(save_folder):\n",
    "    os.makedirs(save_folder)\n",
    "\n",
    "model.save(os.path.join(save_folder, 'Model-LSTM.h5'))"
   ]
  },
  {
   "cell_type": "markdown",
   "metadata": {},
   "source": [
    "Make Prediction"
   ]
  },
  {
   "cell_type": "code",
   "execution_count": 28,
   "metadata": {},
   "outputs": [
    {
     "name": "stdout",
     "output_type": "stream",
     "text": [
      "4/4 [==============================] - 0s 23ms/step\n"
     ]
    },
    {
     "data": {
      "text/plain": [
       "'sehat'"
      ]
     },
     "execution_count": 28,
     "metadata": {},
     "output_type": "execute_result"
    }
   ],
   "source": [
    "res = model.predict(X_test)\n",
    "actions[np.argmax(res[4])]"
   ]
  },
  {
   "cell_type": "code",
   "execution_count": 29,
   "metadata": {},
   "outputs": [
    {
     "data": {
      "text/plain": [
       "'sehat'"
      ]
     },
     "execution_count": 29,
     "metadata": {},
     "output_type": "execute_result"
    }
   ],
   "source": [
    "actions[np.argmax(y_test[4])]"
   ]
  },
  {
   "cell_type": "markdown",
   "metadata": {},
   "source": [
    "Matrix and Accuracy"
   ]
  },
  {
   "cell_type": "code",
   "execution_count": 30,
   "metadata": {},
   "outputs": [
    {
     "name": "stdout",
     "output_type": "stream",
     "text": [
      "4/4 [==============================] - 0s 20ms/step\n"
     ]
    }
   ],
   "source": [
    "from sklearn.metrics import multilabel_confusion_matrix, accuracy_score\n",
    "yhat = model.predict(X_test)"
   ]
  },
  {
   "cell_type": "code",
   "execution_count": 31,
   "metadata": {},
   "outputs": [],
   "source": [
    "ytrue = np.argmax(y_test, axis=1).tolist()\n",
    "yhat = np.argmax(yhat, axis=1).tolist()"
   ]
  },
  {
   "cell_type": "code",
   "execution_count": 32,
   "metadata": {},
   "outputs": [
    {
     "data": {
      "text/plain": [
       "array([[[107,   1],\n",
       "        [  0,  12]],\n",
       "\n",
       "       [[108,   0],\n",
       "        [  0,  12]],\n",
       "\n",
       "       [[108,   0],\n",
       "        [  0,  12]],\n",
       "\n",
       "       [[108,   0],\n",
       "        [  0,  12]],\n",
       "\n",
       "       [[108,   0],\n",
       "        [  0,  12]],\n",
       "\n",
       "       [[108,   0],\n",
       "        [  1,  11]],\n",
       "\n",
       "       [[108,   0],\n",
       "        [  0,  12]],\n",
       "\n",
       "       [[108,   0],\n",
       "        [  0,  12]],\n",
       "\n",
       "       [[108,   0],\n",
       "        [  0,  12]],\n",
       "\n",
       "       [[108,   0],\n",
       "        [  0,  12]]], dtype=int64)"
      ]
     },
     "execution_count": 32,
     "metadata": {},
     "output_type": "execute_result"
    }
   ],
   "source": [
    "multilabel_confusion_matrix(ytrue, yhat)"
   ]
  },
  {
   "cell_type": "code",
   "execution_count": 33,
   "metadata": {},
   "outputs": [
    {
     "name": "stdout",
     "output_type": "stream",
     "text": [
      "4/4 [==============================] - 0s 27ms/step - loss: 0.0856 - accuracy: 0.9917\n",
      "Test Loss: 0.08555348962545395\n",
      "Test Accuracy: 0.9916666746139526\n"
     ]
    }
   ],
   "source": [
    "loss, accuracy = model.evaluate(X_test, y_test)\n",
    "print(f\"Test Loss: {loss}\")\n",
    "print(f\"Test Accuracy: {accuracy}\")"
   ]
  },
  {
   "cell_type": "code",
   "execution_count": 34,
   "metadata": {},
   "outputs": [
    {
     "data": {
      "text/plain": [
       "['apa',\n",
       " 'hai',\n",
       " 'nama',\n",
       " 'hobi',\n",
       " 'saya',\n",
       " 'kamu',\n",
       " 'sehat',\n",
       " 'maaf',\n",
       " 'tolong',\n",
       " 'no_action']"
      ]
     },
     "execution_count": 34,
     "metadata": {},
     "output_type": "execute_result"
    }
   ],
   "source": [
    "label_list = ['apa', 'hai', 'nama', 'hobi', 'saya', 'kamu', 'sehat', 'maaf', 'tolong', 'no_action']\n",
    "label_list = list(label_map.keys())\n",
    "label_list"
   ]
  },
  {
   "cell_type": "code",
   "execution_count": 35,
   "metadata": {},
   "outputs": [
    {
     "name": "stdout",
     "output_type": "stream",
     "text": [
      "15/15 [==============================] - 0s 22ms/step\n",
      "Train Overall Multiclassification Accuracy Score across all classes: 0.99\n"
     ]
    },
    {
     "data": {
      "image/png": "[encoded data removed]",
      "text/plain": [
       "<Figure size 640x480 with 2 Axes>"
      ]
     },
     "metadata": {},
     "output_type": "display_data"
    },
    {
     "name": "stdout",
     "output_type": "stream",
     "text": [
      "4/4 [==============================] - 0s 23ms/step\n",
      "Test Overall Multiclassification Accuracy Score across all classes: 0.99\n"
     ]
    },
    {
     "data": {
      "image/png": "[encoded data removed]",
      "text/plain": [
       "<Figure size 640x480 with 2 Axes>"
      ]
     },
     "metadata": {},
     "output_type": "display_data"
    }
   ],
   "source": [
    "from sklearn.metrics import multilabel_confusion_matrix, accuracy_score, confusion_matrix, ConfusionMatrixDisplay\n",
    "import seaborn as sns\n",
    "\n",
    "def generate_confusion_matrix_accuracy(X,y,types):\n",
    "    predictions = model.predict(X)\n",
    "    y_true = np.argmax(y, axis=1)\n",
    "    y_pred = np.argmax(predictions, axis=1)\n",
    "    cm = confusion_matrix(y_true, y_pred)\n",
    "    print(f'{types} Overall Multiclassification Accuracy Score across all classes:',round(accuracy_score(y_true, y_pred),2))\n",
    "    sns.heatmap(cm, xticklabels = label_list, yticklabels = label_list, annot = True, linewidths = 0.1, fmt='d',cmap='Blues')\n",
    "    plt.title(f\"{types} Confusion matrix\", fontsize = 15)\n",
    "    plt.ylabel('True label')\n",
    "    plt.xlabel('Predicted label')\n",
    "    plt.show()\n",
    "generate_confusion_matrix_accuracy(X_train,y_train,'Train')\n",
    "generate_confusion_matrix_accuracy(X_test,y_test,'Test')"
   ]
  }
 ],
 "metadata": {
  "kernelspec": {
   "display_name": "Python 3",
   "language": "python",
   "name": "python3"
  },
  "language_info": {
   "codemirror_mode": {
    "name": "ipython",
    "version": 3
   },
   "file_extension": ".py",
   "mimetype": "text/x-python",
   "name": "python",
   "nbconvert_exporter": "python",
   "pygments_lexer": "ipython3",
   "version": "3.8.10"
  }
 },
 "nbformat": 4,
 "nbformat_minor": 2
}
